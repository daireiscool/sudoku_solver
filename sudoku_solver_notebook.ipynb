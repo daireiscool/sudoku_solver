{
 "cells": [
  {
   "cell_type": "code",
   "execution_count": 20,
   "metadata": {},
   "outputs": [],
   "source": [
    "\"\"\"\n",
    "Note:\n",
    "    - Training on a 9x9 grid, or 3^3\n",
    "      Would like to generalise this to n^n\n",
    "\"\"\"\n",
    "from sudoku_solver import *"
   ]
  },
  {
   "cell_type": "code",
   "execution_count": 21,
   "metadata": {},
   "outputs": [],
   "source": [
    "# Two sudoku examples\n",
    "# A correct version, and an incorrect version\n",
    "sudoku_correct =[\n",
    "    [8,2,7,1,5,4,3,9,6],\n",
    "    [9,6,5,3,2,7,1,4,8],\n",
    "    [3,4,1,6,8,9,7,5,2],\n",
    "    [5,9,3,4,6,8,2,7,1],\n",
    "    [4,7,2,5,1,3,6,8,9],\n",
    "    [6,1,8,9,7,2,4,3,5],\n",
    "    [7,8,6,2,3,5,9,1,4],\n",
    "    [1,5,4,7,9,6,8,2,3],\n",
    "    [2,3,9,8,4,1,5,6,7],\n",
    "]\n",
    "\n",
    "sudoku_incorrect =[\n",
    "    [9,2,7,1,5,4,3,9,6],\n",
    "    [9,6,5,3,2,7,1,4,8],\n",
    "    [3,4,1,6,8,9,7,5,2],\n",
    "    [5,9,3,4,6,8,2,7,1],\n",
    "    [4,7,2,5,1,3,6,8,9],\n",
    "    [6,1,8,9,7,2,4,3,5],\n",
    "    [7,8,6,2,3,5,9,1,4],\n",
    "    [1,5,4,7,9,6,8,2,3],\n",
    "    [2,3,9,8,4,1,5,6,7],\n",
    "]"
   ]
  },
  {
   "cell_type": "code",
   "execution_count": 14,
   "metadata": {},
   "outputs": [],
   "source": [
    "def sudoku_verify(grid, n = 3):\n",
    "    \"\"\"\n",
    "    Function to verify if a sudoku solution is correct\n",
    "    If there is an issue, will raise an AssertionError\n",
    "    \n",
    "    \n",
    "    ::param grid: (list[list]) a 9x9 list\n",
    "    ::param n: (int) Size of sudoku problem, default is 3 (ie 9x9)\n",
    "                     But can be any integer\n",
    "                     eg 4, where the box is 16x16, and 4 4x4 boxes\n",
    "    ::return: (True) or raises an AssertionError\n",
    "    \"\"\"    \n",
    "    for row in grid:\n",
    "        assert len(set(row)) == len(row), \\\n",
    "        \"The number of unique element, and size of row is different\"\n",
    "    for i in range(len(grid)):\n",
    "        col = [row[i] for row in grid]\n",
    "        assert len(set(col)) == len(col), \\\n",
    "        \"The number of unique element, and size of column is different\"\n",
    "    for i in range(n):\n",
    "        for j in range(n):\n",
    "            for i in range(n):\n",
    "                box = [row[n*i:(i+1)*n] for row in grid[n*j:(j+1)*n]]\n",
    "                flat_box = [item for sublist in box for item in sublist]\n",
    "\n",
    "                assert len(set(flat_box)) == len(flat_box), \\\n",
    "                \"The number of unique element, and size of box is different\"\n",
    "\n",
    "    return True"
   ]
  },
  {
   "cell_type": "code",
   "execution_count": 18,
   "metadata": {},
   "outputs": [
    {
     "data": {
      "text/plain": [
       "True"
      ]
     },
     "execution_count": 18,
     "metadata": {},
     "output_type": "execute_result"
    }
   ],
   "source": [
    "sudoku_verify(sudoku_correct)"
   ]
  },
  {
   "cell_type": "code",
   "execution_count": 22,
   "metadata": {},
   "outputs": [
    {
     "name": "stdout",
     "output_type": "stream",
     "text": [
      "This works.\n"
     ]
    }
   ],
   "source": [
    "try:\n",
    "    sudoku_verify(sudoku_incorrect)\n",
    "except AssertionError as e:\n",
    "    print(\"This works.\")"
   ]
  },
  {
   "cell_type": "code",
   "execution_count": null,
   "metadata": {},
   "outputs": [],
   "source": []
  }
 ],
 "metadata": {
  "kernelspec": {
   "display_name": "Python 3",
   "language": "python",
   "name": "python3"
  },
  "language_info": {
   "codemirror_mode": {
    "name": "ipython",
    "version": 3
   },
   "file_extension": ".py",
   "mimetype": "text/x-python",
   "name": "python",
   "nbconvert_exporter": "python",
   "pygments_lexer": "ipython3",
   "version": "3.8.5"
  }
 },
 "nbformat": 4,
 "nbformat_minor": 4
}
